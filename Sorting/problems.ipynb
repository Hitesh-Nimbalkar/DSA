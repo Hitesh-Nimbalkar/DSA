{
 "cells": [
  {
   "cell_type": "markdown",
   "metadata": {},
   "source": [
    "### Heapify"
   ]
  },
  {
   "cell_type": "markdown",
   "metadata": {},
   "source": [
    "In Python's heapq module, the provided functionalities are primarily for min-heaps (where the smallest element is always at the root). To simulate a max-heap (where the largest element should be at the root), you can utilize negation as a workaround.\n",
    "\n",
    "The reason for negating the values is to sort elements in the heap in a way that the smallest (negative of the largest) elements appear at the root when using the default min-heap functions provided by heapq.\n",
    "\n",
    "For instance, when using heapq.heappush() to insert elements into the heap, negating the values prior to insertion essentially reverses their order in terms of magnitude, ensuring that the largest elements (originally negative) appear towards the top of the heap.\n",
    "\n",
    "When retrieving elements from the heap using heapq.heappop(), the negation is reverted to obtain the correct positive value of the largest element after its retrieval.\n",
    "\n",
    "This workaround allows you to use the heapq module effectively to mimic a max-heap while still using its efficient heap operations for insertion, extraction, and peeking at extreme elements."
   ]
  },
  {
   "cell_type": "code",
   "execution_count": 2,
   "metadata": {},
   "outputs": [
    {
     "name": "stdout",
     "output_type": "stream",
     "text": [
      "Min-heap after pushing elements: [1, 3, 7, 4]\n",
      "Smallest element removed from heap: 1\n",
      "Min-heap after popping smallest element: [3, 4, 7]\n",
      "Smallest element in the heap: 3\n"
     ]
    }
   ],
   "source": [
    "import heapq\n",
    "\n",
    "# Initialize an empty list to act as a heap\n",
    "min_heap = []\n",
    "\n",
    "# Add elements to the heap using heappush\n",
    "heapq.heappush(min_heap, 4)\n",
    "heapq.heappush(min_heap, 1)\n",
    "heapq.heappush(min_heap, 7)\n",
    "heapq.heappush(min_heap, 3)\n",
    "\n",
    "print(\"Min-heap after pushing elements:\", min_heap)\n",
    "\n",
    "# Pop the smallest element from the heap using heappop\n",
    "smallest = heapq.heappop(min_heap)\n",
    "print(\"Smallest element removed from heap:\", smallest)\n",
    "print(\"Min-heap after popping smallest element:\", min_heap)\n",
    "\n",
    "# Peek at the smallest element in the heap\n",
    "smallest_element = min_heap[0]\n",
    "print(\"Smallest element in the heap:\", smallest_element)\n"
   ]
  },
  {
   "cell_type": "markdown",
   "metadata": {},
   "source": [
    "#### Max Heap"
   ]
  },
  {
   "cell_type": "code",
   "execution_count": 3,
   "metadata": {},
   "outputs": [
    {
     "name": "stdout",
     "output_type": "stream",
     "text": [
      "Max-heap after pushing elements: [7, 3, 4, 1]\n",
      "Largest element removed from heap: 7\n",
      "Max-heap after popping largest element: [4, 3, 1]\n",
      "Largest element in the heap: 4\n"
     ]
    }
   ],
   "source": [
    "import heapq\n",
    "\n",
    "# Initialize an empty list to act as a max-heap\n",
    "max_heap = []\n",
    "\n",
    "# Add elements to the max-heap by negating their values\n",
    "heapq.heappush(max_heap, -4)\n",
    "heapq.heappush(max_heap, -1)\n",
    "heapq.heappush(max_heap, -7)\n",
    "heapq.heappush(max_heap, -3)\n",
    "\n",
    "print(\"Max-heap after pushing elements:\", [-x for x in max_heap])\n",
    "\n",
    "# Pop the largest element from the heap (by negating it)\n",
    "largest = -heapq.heappop(max_heap)\n",
    "print(\"Largest element removed from heap:\", largest)\n",
    "print(\"Max-heap after popping largest element:\", [-x for x in max_heap])\n",
    "\n",
    "# Peek at the largest element in the heap (by negating it)\n",
    "largest_element = -max_heap[0]\n",
    "print(\"Largest element in the heap:\", largest_element)\n"
   ]
  },
  {
   "cell_type": "code",
   "execution_count": null,
   "metadata": {},
   "outputs": [],
   "source": []
  }
 ],
 "metadata": {
  "kernelspec": {
   "display_name": "Python 3",
   "language": "python",
   "name": "python3"
  },
  "language_info": {
   "codemirror_mode": {
    "name": "ipython",
    "version": 3
   },
   "file_extension": ".py",
   "mimetype": "text/x-python",
   "name": "python",
   "nbconvert_exporter": "python",
   "pygments_lexer": "ipython3",
   "version": "3.11.0"
  }
 },
 "nbformat": 4,
 "nbformat_minor": 2
}
