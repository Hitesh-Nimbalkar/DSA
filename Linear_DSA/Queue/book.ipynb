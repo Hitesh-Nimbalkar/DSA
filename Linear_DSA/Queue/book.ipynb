{
 "cells": [
  {
   "cell_type": "markdown",
   "metadata": {},
   "source": [
    "### Array"
   ]
  },
  {
   "cell_type": "code",
   "execution_count": null,
   "metadata": {},
   "outputs": [],
   "source": []
  },
  {
   "cell_type": "code",
   "execution_count": null,
   "metadata": {},
   "outputs": [],
   "source": []
  },
  {
   "cell_type": "markdown",
   "metadata": {},
   "source": [
    "### List "
   ]
  },
  {
   "cell_type": "code",
   "execution_count": 1,
   "metadata": {},
   "outputs": [
    {
     "name": "stdout",
     "output_type": "stream",
     "text": [
      "Array Queue elements:\n",
      "[1, 2, 3]\n",
      "Dequeued item: 1\n",
      "Array Queue elements after dequeue:\n",
      "[2, 3]\n"
     ]
    }
   ],
   "source": [
    "class ArrayQueue:\n",
    "    def __init__(self):\n",
    "        self.queue = []\n",
    "\n",
    "    def is_empty(self):\n",
    "        return len(self.queue) == 0\n",
    "\n",
    "    def enqueue(self, data):\n",
    "        self.queue.append(data)\n",
    "\n",
    "    def dequeue(self):\n",
    "        if not self.is_empty():\n",
    "            return self.queue.pop(0)\n",
    "        else:\n",
    "            return None\n",
    "\n",
    "    def peek(self):\n",
    "        if not self.is_empty():\n",
    "            return self.queue[0]\n",
    "        else:\n",
    "            return None\n",
    "\n",
    "    def display(self):\n",
    "        print(self.queue)\n",
    "\n",
    "\n",
    "# Example usage:\n",
    "array_queue = ArrayQueue()\n",
    "array_queue.enqueue(1)\n",
    "array_queue.enqueue(2)\n",
    "array_queue.enqueue(3)\n",
    "\n",
    "print(\"Array Queue elements:\")\n",
    "array_queue.display()\n",
    "\n",
    "dequeued_item = array_queue.dequeue()\n",
    "print(\"Dequeued item:\", dequeued_item)\n",
    "\n",
    "print(\"Array Queue elements after dequeue:\")\n",
    "array_queue.display()\n"
   ]
  },
  {
   "cell_type": "markdown",
   "metadata": {},
   "source": [
    "## Linked List "
   ]
  },
  {
   "cell_type": "code",
   "execution_count": 2,
   "metadata": {},
   "outputs": [
    {
     "name": "stdout",
     "output_type": "stream",
     "text": [
      "\n",
      "Linked List Queue elements:\n",
      "1 2 3 \n",
      "Dequeued item: 1\n",
      "Linked List Queue elements after dequeue:\n",
      "2 3 \n"
     ]
    }
   ],
   "source": [
    "class Node:\n",
    "    def __init__(self, data):\n",
    "        self.data = data\n",
    "        self.next = None\n",
    "\n",
    "class LinkedListQueue:\n",
    "    def __init__(self):\n",
    "        self.front = self.rear = None\n",
    "\n",
    "    def is_empty(self):\n",
    "        return self.front is None\n",
    "\n",
    "    def enqueue(self, data):\n",
    "        new_node = Node(data)\n",
    "        if self.is_empty():\n",
    "            self.front = self.rear = new_node\n",
    "        else:\n",
    "            self.rear.next = new_node\n",
    "            self.rear = new_node\n",
    "\n",
    "    def dequeue(self):\n",
    "        if self.is_empty():\n",
    "            return None\n",
    "        data = self.front.data\n",
    "        self.front = self.front.next\n",
    "        if self.front is None:\n",
    "            self.rear = None\n",
    "        return data\n",
    "\n",
    "    def peek(self):\n",
    "        if self.is_empty():\n",
    "            return None\n",
    "        return self.front.data\n",
    "\n",
    "    def display(self):\n",
    "        current = self.front\n",
    "        while current:\n",
    "            print(current.data, end=\" \")\n",
    "            current = current.next\n",
    "        print()\n",
    "\n",
    "\n",
    "# Example usage:\n",
    "linked_list_queue = LinkedListQueue()\n",
    "linked_list_queue.enqueue(1)\n",
    "linked_list_queue.enqueue(2)\n",
    "linked_list_queue.enqueue(3)\n",
    "\n",
    "print(\"\\nLinked List Queue elements:\")\n",
    "linked_list_queue.display()\n",
    "\n",
    "dequeued_item = linked_list_queue.dequeue()\n",
    "print(\"Dequeued item:\", dequeued_item)\n",
    "\n",
    "print(\"Linked List Queue elements after dequeue:\")\n",
    "linked_list_queue.display()\n"
   ]
  },
  {
   "cell_type": "markdown",
   "metadata": {},
   "source": [
    "## Double Ended Queue "
   ]
  },
  {
   "cell_type": "markdown",
   "metadata": {},
   "source": [
    "### List"
   ]
  },
  {
   "cell_type": "code",
   "execution_count": 3,
   "metadata": {},
   "outputs": [
    {
     "name": "stdout",
     "output_type": "stream",
     "text": [
      "List Deque elements:\n",
      "[3, 1, 2]\n",
      "Deleted front item: 3\n",
      "Deleted rear item: 2\n",
      "List Deque elements after deletions:\n",
      "[1]\n"
     ]
    }
   ],
   "source": [
    "class ListDeque:\n",
    "    def __init__(self):\n",
    "        self.deque = []\n",
    "\n",
    "    def is_empty(self):\n",
    "        return len(self.deque) == 0\n",
    "\n",
    "    def insert_front(self, data):\n",
    "        self.deque.insert(0, data)\n",
    "\n",
    "    def insert_rear(self, data):\n",
    "        self.deque.append(data)\n",
    "\n",
    "    def delete_front(self):\n",
    "        if not self.is_empty():\n",
    "            return self.deque.pop(0)\n",
    "        else:\n",
    "            return None\n",
    "\n",
    "    def delete_rear(self):\n",
    "        if not self.is_empty():\n",
    "            return self.deque.pop()\n",
    "        else:\n",
    "            return None\n",
    "\n",
    "    def peek_front(self):\n",
    "        return self.deque[0] if not self.is_empty() else None\n",
    "\n",
    "    def peek_rear(self):\n",
    "        return self.deque[-1] if not self.is_empty() else None\n",
    "\n",
    "    def display(self):\n",
    "        print(self.deque)\n",
    "\n",
    "\n",
    "# Example usage:\n",
    "list_deque = ListDeque()\n",
    "list_deque.insert_front(1)\n",
    "list_deque.insert_rear(2)\n",
    "list_deque.insert_front(3)\n",
    "\n",
    "print(\"List Deque elements:\")\n",
    "list_deque.display()\n",
    "\n",
    "deleted_front = list_deque.delete_front()\n",
    "print(\"Deleted front item:\", deleted_front)\n",
    "\n",
    "deleted_rear = list_deque.delete_rear()\n",
    "print(\"Deleted rear item:\", deleted_rear)\n",
    "\n",
    "print(\"List Deque elements after deletions:\")\n",
    "list_deque.display()\n"
   ]
  },
  {
   "cell_type": "markdown",
   "metadata": {},
   "source": [
    "### Linked List"
   ]
  },
  {
   "cell_type": "code",
   "execution_count": 4,
   "metadata": {},
   "outputs": [
    {
     "name": "stdout",
     "output_type": "stream",
     "text": [
      "List Deque elements:\n",
      "[3, 1, 2]\n",
      "Deleted front item: 3\n",
      "Deleted rear item: 2\n",
      "List Deque elements after deletions:\n",
      "[1]\n"
     ]
    }
   ],
   "source": [
    "class ListDeque:\n",
    "    def __init__(self):\n",
    "        self.deque = []\n",
    "\n",
    "    def is_empty(self):\n",
    "        return len(self.deque) == 0\n",
    "\n",
    "    def insert_front(self, data):\n",
    "        self.deque.insert(0, data)\n",
    "\n",
    "    def insert_rear(self, data):\n",
    "        self.deque.append(data)\n",
    "\n",
    "    def delete_front(self):\n",
    "        if not self.is_empty():\n",
    "            return self.deque.pop(0)\n",
    "        else:\n",
    "            return None\n",
    "\n",
    "    def delete_rear(self):\n",
    "        if not self.is_empty():\n",
    "            return self.deque.pop()\n",
    "        else:\n",
    "            return None\n",
    "\n",
    "    def peek_front(self):\n",
    "        return self.deque[0] if not self.is_empty() else None\n",
    "\n",
    "    def peek_rear(self):\n",
    "        return self.deque[-1] if not self.is_empty() else None\n",
    "\n",
    "    def display(self):\n",
    "        print(self.deque)\n",
    "\n",
    "\n",
    "# Example usage:\n",
    "list_deque = ListDeque()\n",
    "list_deque.insert_front(1)\n",
    "list_deque.insert_rear(2)\n",
    "list_deque.insert_front(3)\n",
    "\n",
    "print(\"List Deque elements:\")\n",
    "list_deque.display()\n",
    "\n",
    "deleted_front = list_deque.delete_front()\n",
    "print(\"Deleted front item:\", deleted_front)\n",
    "\n",
    "deleted_rear = list_deque.delete_rear()\n",
    "print(\"Deleted rear item:\", deleted_rear)\n",
    "\n",
    "print(\"List Deque elements after deletions:\")\n",
    "list_deque.display()\n"
   ]
  },
  {
   "cell_type": "code",
   "execution_count": null,
   "metadata": {},
   "outputs": [],
   "source": []
  }
 ],
 "metadata": {
  "kernelspec": {
   "display_name": ".venv",
   "language": "python",
   "name": "python3"
  },
  "language_info": {
   "codemirror_mode": {
    "name": "ipython",
    "version": 3
   },
   "file_extension": ".py",
   "mimetype": "text/x-python",
   "name": "python",
   "nbconvert_exporter": "python",
   "pygments_lexer": "ipython3",
   "version": "3.11.0"
  }
 },
 "nbformat": 4,
 "nbformat_minor": 2
}
